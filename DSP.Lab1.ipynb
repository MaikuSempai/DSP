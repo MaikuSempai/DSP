{
 "cells": [
  {
   "cell_type": "code",
   "execution_count": 78,
   "id": "e9074e8a-f8ac-4c95-a294-de6920946993",
   "metadata": {},
   "outputs": [
    {
     "name": "stdin",
     "output_type": "stream",
     "text": [
      "Enter your Name:  qwe\n",
      "Enter your Course Name:  qwe\n",
      "Enter your Prelim Grade:  66\n",
      "Enter your Midterm Grade:  77\n",
      "Enter your Finals Grade:  88\n"
     ]
    },
    {
     "name": "stdout",
     "output_type": "stream",
     "text": [
      "\n",
      "Student Name: qwe\n",
      "Course Name: qwe\n",
      "\n",
      "\tPrelim Grade: \t66.0\n",
      "\tMidterm Grade: \t77.0\n",
      "\tFinals Grade: \t88.0 \n"
     ]
    },
    {
     "name": "stdin",
     "output_type": "stream",
     "text": [
      "\n",
      "Choose What Type of Grade to Show:    \n",
      "\t 1. Raw Grade    \n",
      "\t 2. Numerical Grade    \n",
      "\t 3. Emoji    \n",
      "\t 4. Exit    \n",
      "\t 1\n"
     ]
    },
    {
     "name": "stdout",
     "output_type": "stream",
     "text": [
      "\n",
      "Your Semestral Raw Grade is 78.10\n"
     ]
    },
    {
     "name": "stdin",
     "output_type": "stream",
     "text": [
      "\n",
      "Choose What Type of Grade to Show:    \n",
      "\t 1. Raw Grade    \n",
      "\t 2. Numerical Grade    \n",
      "\t 3. Emoji    \n",
      "\t 4. Exit    \n",
      "\t 2\n"
     ]
    },
    {
     "name": "stdout",
     "output_type": "stream",
     "text": [
      "\n",
      "Your Semestral Numerical Grade is  2.50\n"
     ]
    },
    {
     "name": "stdin",
     "output_type": "stream",
     "text": [
      "\n",
      "Choose What Type of Grade to Show:    \n",
      "\t 1. Raw Grade    \n",
      "\t 2. Numerical Grade    \n",
      "\t 3. Emoji    \n",
      "\t 4. Exit    \n",
      "\t 3\n"
     ]
    },
    {
     "name": "stdout",
     "output_type": "stream",
     "text": [
      "\n",
      "Your Grade Emoji is  😀\n"
     ]
    },
    {
     "name": "stdin",
     "output_type": "stream",
     "text": [
      "\n",
      "Choose What Type of Grade to Show:    \n",
      "\t 1. Raw Grade    \n",
      "\t 2. Numerical Grade    \n",
      "\t 3. Emoji    \n",
      "\t 4. Exit    \n",
      "\t 4\n"
     ]
    },
    {
     "name": "stdout",
     "output_type": "stream",
     "text": [
      "\n",
      "Thank You!\n"
     ]
    }
   ],
   "source": [
    "# student info\n",
    "def check_grade(term):\n",
    "    while True:\n",
    "        grade = float(input(\"Enter your \"+term+\" Grade: \"))\n",
    "        if grade <= 100 and grade >= 0:\n",
    "            return(grade)\n",
    "        print(\"Invalid Input\")\n",
    "while True:\n",
    "    student_name = input(\"Enter your Name: \")\n",
    "    if student_name.isalpha() is False:\n",
    "        print(\"Invalid Input\")\n",
    "    else:\n",
    "        break\n",
    "\n",
    "course_name = input(\"Enter your Course Name: \")\n",
    "\n",
    "# grade inputs\n",
    "prelim = check_grade(\"Prelim\")\n",
    "midterm = check_grade(\"Midterm\")\n",
    "finals = check_grade(\"Finals\")\n",
    "\n",
    "# raw semestral grade calculation\n",
    "sem_grade = round((prelim * 0.3) + (midterm * 0.3) + (finals * 0.4), 2)\n",
    "\n",
    "print(\"\\nStudent Name: {}\\\n",
    "\\nCourse Name: {}\\\n",
    "\\n\\n\\tPrelim Grade: \\t{}\\\n",
    "\\n\\tMidterm Grade: \\t{}\\\n",
    "\\n\\tFinals Grade: \\t{} \".format(student_name, course_name, prelim, midterm, finals))\n",
    "\n",
    "\n",
    "# emotion\n",
    "def emoticon(sem_grade):\n",
    "  happy, lol, sad = \"\\U0001F600\", \"\\U0001F606\", \"\\U0001F62D\"\n",
    "  if sem_grade > 70.00:\n",
    "      return happy\n",
    "  elif sem_grade == 70.00:\n",
    "      return lol\n",
    "  else:\n",
    "      return sad\n",
    "\n",
    "#equivalent grade\n",
    "def num_grade(sem_grade):\n",
    "  if sem_grade >= 97.00 and sem_grade <= 100:\n",
    "    return \"1.00\"\n",
    "\n",
    "  elif sem_grade >= 93.00 and sem_grade <= 96.99:\n",
    "    return \"1.25\"\n",
    "\n",
    "  elif sem_grade >= 89.00 and sem_grade <= 92.99:\n",
    "    return \"1.50\"\n",
    "\n",
    "  elif sem_grade >= 85.00 and sem_grade <= 88.99:\n",
    "    return \"1.75\"\n",
    "\n",
    "  elif sem_grade >= 82.00 and sem_grade <= 84.99:\n",
    "    return \"2.00\"\n",
    "\n",
    "  elif sem_grade >= 79.00 and sem_grade <= 81.99:\n",
    "    return \"2.25\"\n",
    "\n",
    "  elif sem_grade >= 76.00 and sem_grade <= 78.99:\n",
    "    return \"2.50\"\n",
    "\n",
    "  elif sem_grade >= 73.00 and sem_grade <= 75.99:\n",
    "    return \"2.75\"\n",
    "\n",
    "  elif sem_grade >= 70.00 and sem_grade <= 72.99:\n",
    "    return \"3.00\"\n",
    "\n",
    "  else:\n",
    "    return \"5.00\"\n",
    "\n",
    "# choose what grade to see\n",
    "while True:\n",
    "    see_grade = input(\"\\nChoose What Type of Grade to Show:\\\n",
    "    \\n\\t 1. Raw Grade\\\n",
    "    \\n\\t 2. Numerical Grade\\\n",
    "    \\n\\t 3. Emoji\\\n",
    "    \\n\\t 4. Exit\\\n",
    "    \\n\\t\")\n",
    "\n",
    "    if see_grade == \"1\":\n",
    "        print(\"\\nYour Semestral Raw Grade is %.2f\"% (sem_grade))\n",
    "        \n",
    "    elif see_grade == \"2\":\n",
    "        print(\"\\nYour Semestral Numerical Grade is \", num_grade(sem_grade))\n",
    "        \n",
    "    elif see_grade == \"3\":\n",
    "        print(\"\\nYour Grade Emoji is \",emoticon(sem_grade))\n",
    "\n",
    "    elif see_grade == \"4\":\n",
    "        print(\"\\nThank You!\")\n",
    "        break\n",
    "        \n",
    "    else:\n",
    "        print(\"\\nWrong Input\")"
   ]
  },
  {
   "cell_type": "code",
   "execution_count": null,
   "id": "aaca7c11-02ee-495a-a6d8-c2e2a854d62e",
   "metadata": {},
   "outputs": [],
   "source": []
  }
 ],
 "metadata": {
  "kernelspec": {
   "display_name": "Python 3 (ipykernel)",
   "language": "python",
   "name": "python3"
  },
  "language_info": {
   "codemirror_mode": {
    "name": "ipython",
    "version": 3
   },
   "file_extension": ".py",
   "mimetype": "text/x-python",
   "name": "python",
   "nbconvert_exporter": "python",
   "pygments_lexer": "ipython3",
   "version": "3.12.4"
  }
 },
 "nbformat": 4,
 "nbformat_minor": 5
}
